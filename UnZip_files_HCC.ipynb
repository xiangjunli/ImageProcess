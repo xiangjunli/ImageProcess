{
 "cells": [
  {
   "cell_type": "code",
   "execution_count": null,
   "metadata": {},
   "outputs": [],
   "source": [
    "mport cv2\n",
    "import csv\n",
    "import numpy as np\n",
    "csvfile=open('area.csv', 'w')\n",
    "spamwriter = csv.writer(csvfile, delimiter=',')\n",
    "\n",
    "fs=listdir('image')\n",
    "for file in fs:\n",
    "    # read the data\n",
    "    img_file=file\n",
    "    img = cv2.imread(\"image/\"+img_file)\n",
    "    img = img[450:1800,400:1900]\n",
    "    #cv2.imwrite(\"tmp.png\",img)\n",
    "    img = cv2.cvtColor(img, cv2.COLOR_BGR2RGB)\n",
    "    # convert data type to float from integer\n",
    "    img_float = img.astype(np.float)\n",
    "    # calculate the green index\n",
    "    img_green = (2*img_float[:,:,1])/(img_float[:,:,0]+img_float[:,:,2])\n",
    "    # threshold the image to convert non plant pixles to 0\n",
    "    thresh1 = np.where(img_green>1.12, img_green, 0)\n",
    "    spamwriter.writerow([img_file,np.count_nonzero(thresh1)])\n",
    "   \n",
    "csvfile.close()"
   ]
  }
 ],
 "metadata": {
  "kernelspec": {
   "display_name": "Python 3",
   "language": "python",
   "name": "python3"
  },
  "language_info": {
   "codemirror_mode": {
    "name": "ipython",
    "version": 3
   },
   "file_extension": ".py",
   "mimetype": "text/x-python",
   "name": "python",
   "nbconvert_exporter": "python",
   "pygments_lexer": "ipython3",
   "version": "3.7.4"
  }
 },
 "nbformat": 4,
 "nbformat_minor": 2
}
